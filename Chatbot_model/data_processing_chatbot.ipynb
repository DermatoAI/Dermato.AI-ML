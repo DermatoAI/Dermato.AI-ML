{
  "cells": [
    {
      "cell_type": "markdown",
      "metadata": {
        "id": "nL3RAEf5VFAp"
      },
      "source": [
        "**mengubah data CSV menjadi json**"
      ]
    },
    {
      "cell_type": "code",
      "execution_count": 4,
      "metadata": {
        "colab": {
          "base_uri": "https://localhost:8080/"
        },
        "id": "_A8trhEbUaNB",
        "outputId": "b5c8fe08-4a07-4e10-f170-590f53ada063"
      },
      "outputs": [
        {
          "name": "stdout",
          "output_type": "stream",
          "text": [
            "Dataset converted and saved as intents.json\n"
          ]
        }
      ],
      "source": [
        "import pandas as pd\n",
        "import json\n",
        "\n",
        "# 1. Load dataset CSV\n",
        "csv_file = \"combined_data.csv\"  # Ganti dengan nama file CSV Anda\n",
        "data = pd.read_csv(csv_file)\n",
        "\n",
        "# 2. Buat struktur JSON intents\n",
        "intents = []\n",
        "\n",
        "# Iterasi melalui dataset untuk membuat intents berdasarkan prompt dan response\n",
        "for prompt, response in zip(data['prompt'], data['response']):\n",
        "    intents.append({\n",
        "        \"tag\": prompt,  # Gunakan prompt sebagai tag (sesuaikan dengan struktur dataset)\n",
        "        \"patterns\": [prompt],\n",
        "        \"responses\": [response],\n",
        "        \"context\": [\"\"]\n",
        "    })\n",
        "\n",
        "# 3. Simpan sebagai file JSON\n",
        "json_file = \"intents.json\"\n",
        "with open(json_file, \"w\", encoding=\"utf-8\") as file:\n",
        "    json.dump({\"intents\": intents}, file, indent=4, ensure_ascii=False)\n",
        "\n",
        "print(f\"Dataset converted and saved as {json_file}\")\n"
      ]
    },
    {
      "cell_type": "markdown",
      "metadata": {
        "id": "gGxCMswF7co0"
      },
      "source": [
        "**MENAMBAHKAN SINONIM PADA PATTERNS**"
      ]
    },
    {
      "cell_type": "code",
      "execution_count": 5,
      "metadata": {
        "colab": {
          "base_uri": "https://localhost:8080/",
          "height": 36
        },
        "id": "cFy0_hlUU54p",
        "outputId": "67360dc7-8a6f-431c-b506-a708851df151"
      },
      "outputs": [
        {
          "data": {
            "text/plain": [
              "'QA_dermato.json'"
            ]
          },
          "execution_count": 5,
          "metadata": {},
          "output_type": "execute_result"
        }
      ],
      "source": [
        "# Membaca ulang file JSON yang diunggah\n",
        "file_path = \"intents.json\"\n",
        "with open(file_path, 'r', encoding='utf-8') as file:\n",
        "    intents_data_full = json.load(file)\n",
        "\n",
        "# Menambahkan sinonim atau variasi pada setiap patterns\n",
        "synonyms = {\n",
        "    \"What is\": [\"Can you explain\", \"Tell me about\", \"Explain to me\"],\n",
        "    \"How to\": [\"What is the way to\", \"Could you explain how to\", \"Can you show me how\"],\n",
        "    \"Tell me\": [\"Explain to me\", \"I want to know\", \"Could you elaborate on\"],\n",
        "    \"Can you\": [\"Would you be able to\", \"Is it possible for you to\", \"Could you\"]\n",
        "}\n",
        "\n",
        "for intent in intents_data_full[\"intents\"]:\n",
        "    new_patterns = []\n",
        "    for pattern in intent[\"patterns\"]:\n",
        "        for key, variations in synonyms.items():\n",
        "            if key in pattern:\n",
        "                # Tambahkan variasi sinonim\n",
        "                for variation in variations:\n",
        "                    new_patterns.append(pattern.replace(key, variation))\n",
        "    intent[\"patterns\"].extend(new_patterns)\n",
        "\n",
        "# Menyimpan file JSON yang telah dimodifikasi\n",
        "modified_file_path_full = \"QA_dermato.json\"\n",
        "with open(modified_file_path_full, 'w', encoding='utf-8') as modified_file:\n",
        "    json.dump(intents_data_full, modified_file, indent=4, ensure_ascii=False)\n",
        "\n",
        "modified_file_path_full\n"
      ]
    },
    {
      "cell_type": "markdown",
      "metadata": {
        "id": "WoFVArWg7qUz"
      },
      "source": [
        "**MENGGABUNGKAN DATASET BUATAN SENDIRI DAN DATASET SEBELUMNYA**"
      ]
    },
    {
      "cell_type": "code",
      "execution_count": 19,
      "metadata": {
        "colab": {
          "base_uri": "https://localhost:8080/"
        },
        "id": "5-zOg-BXK5vD",
        "outputId": "91a7624f-89da-4a6d-94b5-50cd2a381d5b"
      },
      "outputs": [
        {
          "name": "stdout",
          "output_type": "stream",
          "text": [
            "Dataset merged and saved to merged_dataset.json\n"
          ]
        }
      ],
      "source": [
        "import json\n",
        "\n",
        "# Load the two JSON files\n",
        "file_path1 = \"self_dataset.json\"\n",
        "file_path2 = \"QA_dermato.json\"\n",
        "\n",
        "with open(file_path1, 'rb') as f:\n",
        "    dataset1 = json.load(f)\n",
        "\n",
        "with open(file_path2, 'rb') as f:\n",
        "    dataset2 = json.load(f)\n",
        "\n",
        "# Merge the \"intents\" arrays from both datasets\n",
        "merged_intents = dataset1.get(\"intents\", []) + dataset2.get(\"intents\", [])\n",
        "\n",
        "# Create a new merged dataset\n",
        "merged_dataset = {\"intents\": merged_intents}\n",
        "\n",
        "# Save the merged dataset to a new JSON file\n",
        "output_path = \"merged_dataset.json\"\n",
        "with open(output_path, 'w') as f:\n",
        "    json.dump(merged_dataset, f, indent=4)\n",
        "\n",
        "print(f\"Dataset merged and saved to {output_path}\")\n"
      ]
    }
  ],
  "metadata": {
    "colab": {
      "provenance": []
    },
    "kernelspec": {
      "display_name": "Python 3",
      "name": "python3"
    },
    "language_info": {
      "codemirror_mode": {
        "name": "ipython",
        "version": 3
      },
      "file_extension": ".py",
      "mimetype": "text/x-python",
      "name": "python",
      "nbconvert_exporter": "python",
      "pygments_lexer": "ipython3",
      "version": "3.12.7"
    }
  },
  "nbformat": 4,
  "nbformat_minor": 0
}
